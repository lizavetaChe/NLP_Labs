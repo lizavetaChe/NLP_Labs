{
  "cells": [
    {
      "cell_type": "markdown",
      "source": [
        "#### Загрузка словаря"
      ],
      "metadata": {
        "id": "F77kavBZ3HzN"
      }
    },
    {
      "cell_type": "code",
      "source": [
        "! wget https://opencorpora.org/files/export/dict/dict.opcorpora.xml.zip\n",
        "! unzip dict.opcorpora.xml.zip"
      ],
      "metadata": {
        "colab": {
          "base_uri": "https://localhost:8080/"
        },
        "id": "ndiSLq_M3E_H",
        "outputId": "b23269a6-58e1-44d6-ddd3-04334e9ee55b"
      },
      "execution_count": 1,
      "outputs": [
        {
          "output_type": "stream",
          "name": "stdout",
          "text": [
            "--2025-09-23 09:54:56--  https://opencorpora.org/files/export/dict/dict.opcorpora.xml.zip\n",
            "Resolving opencorpora.org (opencorpora.org)... 104.21.15.199, 172.67.163.210, 2606:4700:3030::6815:fc7, ...\n",
            "Connecting to opencorpora.org (opencorpora.org)|104.21.15.199|:443... connected.\n",
            "HTTP request sent, awaiting response... 200 OK\n",
            "Length: 28757314 (27M) [application/zip]\n",
            "Saving to: ‘dict.opcorpora.xml.zip.1’\n",
            "\n",
            "dict.opcorpora.xml. 100%[===================>]  27.42M  10.3MB/s    in 2.7s    \n",
            "\n",
            "2025-09-23 09:54:59 (10.3 MB/s) - ‘dict.opcorpora.xml.zip.1’ saved [28757314/28757314]\n",
            "\n",
            "Archive:  dict.opcorpora.xml.zip\n",
            "replace dict.opcorpora.xml? [y]es, [n]o, [A]ll, [N]one, [r]ename: n\n"
          ]
        }
      ]
    },
    {
      "cell_type": "markdown",
      "source": [
        "#### Считывание исходного словаря и создание словаря для лемматизатора"
      ],
      "metadata": {
        "id": "siecBeE53N32"
      }
    },
    {
      "cell_type": "code",
      "source": [
        "from lxml import etree\n",
        "\n",
        "def creat_dict():\n",
        "    dict_ = {}\n",
        "    lemmas = etree.iterparse('dict.opcorpora.xml', events=(\"end\",), tag=\"lemma\", recover=True)\n",
        "\n",
        "    for _ , lemma in lemmas:\n",
        "        l = lemma.find(\"l\")\n",
        "\n",
        "        lemma_text = l.attrib.get(\"t\")\n",
        "        g = l.findall(\"g\")\n",
        "        tag = g[0].attrib.get(\"v\", \"Unknown\")\n",
        "\n",
        "        for f in lemma.findall(\"f\"):\n",
        "            word = f.attrib.get(\"t\")\n",
        "            dict_[word] = [lemma_text, tag]\n",
        "\n",
        "        lemma.clear()\n",
        "    return dict_\n",
        "\n",
        "dict_ = creat_dict()"
      ],
      "metadata": {
        "id": "CePzPm0s3HR-"
      },
      "execution_count": 2,
      "outputs": []
    },
    {
      "cell_type": "markdown",
      "source": [
        "#### Проверка работы словаря"
      ],
      "metadata": {
        "id": "wZhYnFjb5yrp"
      }
    },
    {
      "cell_type": "code",
      "source": [
        "print(dict_['стала'])"
      ],
      "metadata": {
        "id": "XpSjMjDo5yrp",
        "colab": {
          "base_uri": "https://localhost:8080/"
        },
        "outputId": "25b2e834-8c52-47d2-a3da-1225a4cca2a1"
      },
      "execution_count": 15,
      "outputs": [
        {
          "output_type": "stream",
          "name": "stdout",
          "text": [
            "['стал', 'VERB']\n"
          ]
        }
      ]
    },
    {
      "cell_type": "markdown",
      "source": [
        "#### Считывание текста"
      ],
      "metadata": {
        "id": "LrZgMh3M52g0"
      }
    },
    {
      "cell_type": "code",
      "execution_count": 12,
      "metadata": {
        "id": "NyzXvRLP2tJl"
      },
      "outputs": [],
      "source": [
        "with open('text.txt', 'r', encoding='utf-8') as f:\n",
        "    text = f.read()"
      ]
    },
    {
      "cell_type": "markdown",
      "source": [
        "#### Преобразование текста к формату для обработки"
      ],
      "metadata": {
        "id": "KiZo37373ozp"
      }
    },
    {
      "cell_type": "code",
      "execution_count": 13,
      "metadata": {
        "id": "wNKczLMT3Gge",
        "colab": {
          "base_uri": "https://localhost:8080/"
        },
        "outputId": "2e1a379d-121e-472a-ed4b-d305bfb252da"
      },
      "outputs": [
        {
          "output_type": "stream",
          "name": "stdout",
          "text": [
            "['Стала', 'стабильнее', 'экономическая', 'и', 'политическая', 'обстановка', 'предприятия', 'вывели', 'из', 'тени', 'зарплаты', 'сотрудников', 'Все', 'Гришины', 'одноклассники', 'уже', 'побывали', 'за', 'границей', 'он', 'был', 'чуть', 'ли', 'не', 'единственным', 'кого', 'не', 'вывозили', 'никуда', 'дальше', 'Красной', 'Пахры', 'Привет', 'привет']\n"
          ]
        }
      ],
      "source": [
        "import string\n",
        "\n",
        "def to_form(text):\n",
        "  clean_text = \"\".join(ch for ch in text if ch not in string.punctuation)\n",
        "  words = clean_text.strip().split()\n",
        "  print(words)\n",
        "\n",
        "  return words\n",
        "\n",
        "words = to_form(text)"
      ]
    },
    {
      "cell_type": "markdown",
      "source": [
        "#### Лемматизация"
      ],
      "metadata": {
        "id": "mHme0xs_3vs9"
      }
    },
    {
      "cell_type": "code",
      "source": [
        "result = []\n",
        "for w in words:\n",
        "  if w.lower() not in dict_.keys():\n",
        "    result.append(f\"{w}{{Unknown}}\")\n",
        "  else:\n",
        "    lemma, tag = dict_[w.lower()]\n",
        "    result.append(f\"{w}{{{lemma}={tag}}}\")\n",
        "\n",
        "text_res = \" \".join(result)\n",
        "print(text_res)\n"
      ],
      "metadata": {
        "colab": {
          "base_uri": "https://localhost:8080/"
        },
        "id": "jGOLJde6VzSf",
        "outputId": "8a299e33-acab-4423-9aa1-a7be39a81d70"
      },
      "execution_count": 17,
      "outputs": [
        {
          "output_type": "stream",
          "name": "stdout",
          "text": [
            "Стала{стал=VERB} стабильнее{стабильнее=COMP} экономическая{экономический=ADJF} и{и=NOUN} политическая{политический=ADJF} обстановка{обстановка=NOUN} предприятия{предприятие=NOUN} вывели{вывел=VERB} из{иза=NOUN} тени{тень=NOUN} зарплаты{зарплата=NOUN} сотрудников{сотрудник=NOUN} Все{весь=ADJF} Гришины{гришин=ADJF} одноклассники{одноклассник=NOUN} уже{уже=PRCL} побывали{побывал=VERB} за{за=PREP} границей{граница=NOUN} он{он=NPRO} был{есть=VERB} чуть{чуть=CONJ} ли{ли=NOUN} не{не=PRCL} единственным{единственный=ADJF} кого{кто=NPRO} не{не=PRCL} вывозили{вывозил=VERB} никуда{никуда=ADVB} дальше{дальше=COMP} Красной{красный=ADJF} Пахры{пахра=NOUN} Привет{привет=INTJ} привет{привет=INTJ}\n"
          ]
        }
      ]
    },
    {
      "cell_type": "markdown",
      "source": [
        "#### Сохранение в файл"
      ],
      "metadata": {
        "id": "4nqNlY-W37Lr"
      }
    },
    {
      "cell_type": "code",
      "source": [
        "with open(\"output.txt\", \"w\", encoding=\"utf-8\") as f:\n",
        "    f.write(text_res)\n",
        ""
      ],
      "metadata": {
        "id": "s-W6hG383-QV"
      },
      "execution_count": 18,
      "outputs": []
    }
  ],
  "metadata": {
    "colab": {
      "provenance": []
    },
    "kernelspec": {
      "display_name": "Python 3",
      "name": "python3"
    },
    "language_info": {
      "name": "python"
    }
  },
  "nbformat": 4,
  "nbformat_minor": 0
}